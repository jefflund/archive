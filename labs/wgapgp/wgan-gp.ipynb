{
 "cells": [
  {
   "cell_type": "code",
   "execution_count": 9,
   "metadata": {},
   "outputs": [],
   "source": [
    "import tensorflow as tf\n",
    "import numpy as np\n",
    "\n",
    "import itertools\n",
    "from tqdm import trange\n",
    "from scipy import misc\n",
    "from glob import glob"
   ]
  },
  {
   "cell_type": "code",
   "execution_count": 13,
   "metadata": {},
   "outputs": [],
   "source": [
    "D = 100\n",
    "W, H = 218, 178"
   ]
  },
  {
   "cell_type": "code",
   "execution_count": 21,
   "metadata": {},
   "outputs": [],
   "source": [
    "faces = glob('img_align_celeba/*.jpg')[:16]\n",
    "faces = [misc.imread(fname) / 255 for fname in faces]\n",
    "faces = np.array(faces)"
   ]
  },
  {
   "cell_type": "code",
   "execution_count": 22,
   "metadata": {},
   "outputs": [],
   "source": [
    "def generator(z):\n",
    "    with tf.variable_scope('Generator') as scope:\n",
    "        if scope.trainable_variables():\n",
    "            scope.reuse_variables()\n",
    "\n",
    "        x = tf.contrib.layers.fully_connected(z, W*H*32, activation_fn=None)\n",
    "        x = tf.reshape(x, [-1, W, H, 32])\n",
    "\n",
    "        for _ in range(10):\n",
    "            fx = tf.contrib.layers.conv2d(x, 32, kernel_size=3)\n",
    "            fx = tf.contrib.layers.conv2d(fx, 32, kernel_size=3, activation_fn=None)\n",
    "            x = tf.nn.relu(x + fx)\n",
    "\n",
    "        x = tf.contrib.layers.conv2d(x, 3, kernel_size=3, activation_fn=tf.nn.sigmoid)\n",
    "\n",
    "    return x\n",
    "\n",
    "def generator_vars():\n",
    "    with tf.variable_scope('Generator') as scope:\n",
    "        return scope.trainable_variables()"
   ]
  },
  {
   "cell_type": "code",
   "execution_count": 23,
   "metadata": {},
   "outputs": [],
   "source": [
    "def discriminator(x):\n",
    "    with tf.variable_scope('Discriminator') as scope:\n",
    "        if scope.trainable_variables():\n",
    "            scope.reuse_variables()\n",
    "\n",
    "        y = tf.contrib.layers.conv2d(x, 32, kernel_size=3)\n",
    "\n",
    "        for _ in range(10):\n",
    "            fy = tf.contrib.layers.conv2d(y, 32, kernel_size=3)\n",
    "            fy = tf.contrib.layers.conv2d(fy, 32, kernel_size=3, activation_fn=None)\n",
    "            y = tf.nn.relu(y + fy)\n",
    "\n",
    "        y = tf.contrib.layers.fully_connected(y, 1, activation_fn=tf.nn.tanh)\n",
    "\n",
    "    return y\n",
    "\n",
    "def discriminator_vars():\n",
    "    with tf.variable_scope('Discriminator') as scope:\n",
    "        return scope.trainable_variables()"
   ]
  },
  {
   "cell_type": "code",
   "execution_count": 24,
   "metadata": {},
   "outputs": [],
   "source": [
    "tf.reset_default_graph()\n",
    "\n",
    "z = tf.placeholder(tf.float32, (None, D), name='z')\n",
    "x = tf.placeholder(tf.float32, (None, W, H, 3), name='x')\n",
    "e = tf.placeholder(tf.float32, (None, 1, 1, 1), name='e')\n",
    "\n",
    "x_tilde = generator(z)\n",
    "x_hat = e * x + (1 - e) * x_tilde\n",
    "penalty = 10 * (tf.norm(tf.gradients(discriminator(x_hat), x_hat)) - 1) ** 2\n",
    "dloss = tf.reduce_mean(discriminator(x_tilde) - discriminator(x) + penalty)\n",
    "gloss = tf.reduce_mean(-discriminator(generator(z)))\n",
    "\n",
    "summary = tf.summary.merge([\n",
    "    tf.summary.scalar('Disc_Loss', dloss),\n",
    "    tf.summary.scalar('Gen_Loss', gloss),\n",
    "])\n",
    "\n",
    "dtrain = tf.train.AdamOptimizer(.0001, 0, .9).minimize(dloss, var_list=discriminator_vars())\n",
    "gtrain = tf.train.AdamOptimizer(.0001, 0, .9).minimize(gloss, var_list=generator_vars())"
   ]
  },
  {
   "cell_type": "code",
   "execution_count": 25,
   "metadata": {},
   "outputs": [],
   "source": [
    "num_epochs = 300\n",
    "batch_size = 16\n",
    "data_size = len(faces)\n",
    "num_steps = num_epochs * data_size // batch_size\n",
    "output_interval = 10\n",
    "\n",
    "def gen_input():\n",
    "    return {\n",
    "        x: faces[np.random.choice(data_size, batch_size)],\n",
    "        z: np.random.random((batch_size, D)),\n",
    "        e: np.random.random((batch_size, 1, 1, 1))\n",
    "    }"
   ]
  },
  {
   "cell_type": "code",
   "execution_count": null,
   "metadata": {},
   "outputs": [
    {
     "name": "stderr",
     "output_type": "stream",
     "text": [
      "  7%|▋         | 20/300 [02:41<37:36,  8.06s/it] "
     ]
    }
   ],
   "source": [
    "with tf.Session() as sess:\n",
    "    sess.run(tf.global_variables_initializer())\n",
    "    writer = tf.summary.FileWriter('logs', sess.graph)\n",
    "    saver = tf.train.Saver()\n",
    "\n",
    "    def output(step):\n",
    "        imgs = sess.run(generator(z), {\n",
    "            z: np.random.random((1, D)),\n",
    "        })\n",
    "        for i, img in enumerate(imgs):\n",
    "            misc.imsave('output/{}-{}-rand.png'.format(step, i), (img * 255).astype('uint8'))\n",
    "\n",
    "    for step in trange(num_steps):\n",
    "        for t in range(5):\n",
    "            sess.run(dtrain, gen_input())\n",
    "        sess.run(gtrain, gen_input())\n",
    "\n",
    "        ss = sess.run(summary, gen_input())\n",
    "        writer.add_summary(ss, step)\n",
    "        writer.flush()\n",
    "\n",
    "        if step % output_interval == 0:\n",
    "            output(step)\n",
    "            saver.save(sess, 'model/model.ckpt')\n",
    "\n",
    "    output('result')\n",
    "    writer.close()"
   ]
  }
 ],
 "metadata": {
  "kernelspec": {
   "display_name": "Python 3",
   "language": "python",
   "name": "python3"
  },
  "language_info": {
   "codemirror_mode": {
    "name": "ipython",
    "version": 3
   },
   "file_extension": ".py",
   "mimetype": "text/x-python",
   "name": "python",
   "nbconvert_exporter": "python",
   "pygments_lexer": "ipython3",
   "version": "3.5.2"
  }
 },
 "nbformat": 4,
 "nbformat_minor": 2
}
